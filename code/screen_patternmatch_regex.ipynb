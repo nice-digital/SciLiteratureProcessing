{
 "cells": [
  {
   "cell_type": "markdown",
   "metadata": {
    "id": "UMVmwcv7znUj"
   },
   "source": [
    "# **Pattern Matching Colab**\n",
    "\n",
    "This Colab notebook allows you to categorise a set of scientific papers into different categories. There are 34 supported subject categories and 3 main study designs.\n",
    "\n",
    "**Note**: Please name your data file *input_data.csv* (*title* column should be named 'Title' or 'title' and *abstract* column if present should be named 'Abstract' or 'abstract'), and upload it by pressing the upload button on the top left of the left sidebar. The results will appear in a folder named *RESULTS*. RESULTS folder will be automatically created by the code"
   ]
  },
  {
   "cell_type": "code",
   "execution_count": null,
   "metadata": {
    "cellView": "form",
    "id": "YrXVef6NFiyH"
   },
   "outputs": [],
   "source": [
    "#@title Clone the GITHub repo { form-width: \"20%\" }\n",
    "\n",
    "!git clone https://github.com/nice-digital/SciLiteratureProcessing"
   ]
  },
  {
   "cell_type": "code",
   "execution_count": null,
   "metadata": {
    "cellView": "form",
    "id": "OuwVnsCfC_YE"
   },
   "outputs": [],
   "source": [
    "#@title Install Python packages { form-width: \"20%\" }\n",
    "\n",
    "#@markdown Please execute this cell by pressing the _Play_ button \n",
    "#@markdown on the left to download and import third-party software \n",
    "#@markdown in this Colab notebook. \n",
    "\n",
    "#@markdown This installs the software on the Colab \n",
    "#@markdown notebook in the cloud and not on your computer.\n",
    "from IPython.utils import io\n",
    "try:\n",
    "  with io.capture_output() as captured:\n",
    "    %shell pip install scispacy\n",
    "    %shell pip install https://s3-us-west-2.amazonaws.com/ai2-s2-scispacy/releases/v0.4.0/en_core_sci_md-0.4.0.tar.gz\n",
    "    %shell pip install import-ipynb\n",
    "    %shell pip install pandas\n",
    "   \n",
    "except subprocess.CalledProcessError:\n",
    "  print(captured)\n",
    "  raise\n",
    "\n",
    "import os\n",
    "import numpy as np\n",
    "import spacy\n",
    "import scispacy\n",
    "import pandas as pd\n",
    "from spacy.matcher import Matcher\n",
    "\n",
    "from pathlib import Path\n",
    "import logging\n",
    "\n",
    " # Load relevant Spacy models\n",
    "nlp = spacy.load(\"en_core_sci_md\")\n",
    "logging.basicConfig(format='%(levelname)s:%(message)s', level=logging.INFO)"
   ]
  },
  {
   "cell_type": "code",
   "execution_count": null,
   "metadata": {
    "cellView": "form",
    "id": "Cr_uycHd_CVl"
   },
   "outputs": [],
   "source": [
    "#@title Function definitions { form-width: \"20%\" }\n",
    "\n",
    "#@markdown Please execute this cell by pressing the _Play_ button \n",
    "#@markdown on the left \n",
    "\n",
    "#@markdown This defines code which will be used for pre-processing, identifying study design/categories.\n",
    "\n",
    "%cd /content/SciLiteratureProcessing/code/\n",
    "\n",
    "# Function definitions to pre-process title and abstract\n",
    "%run -i \"text_preprocess.py\"\n",
    "\n",
    "# Function definitions for pattern matching\n",
    "%run -i \"text_patternmatch.py\"\n",
    "\n",
    "# Function that categorizes the data into 35 Covid topics\n",
    "%run -i \"categorise_covid_topics.py\"\n",
    "\n",
    "%cd /content/"
   ]
  },
  {
   "cell_type": "code",
   "execution_count": null,
   "metadata": {
    "cellView": "form",
    "id": "w6WCYYTy_CVm"
   },
   "outputs": [],
   "source": [
    "#@title File settings to get started { form-width: \"20%\" }\n",
    "\n",
    "#@markdown Please ensure the input_data.csv is uploaded and execute this cell by pressing the _Play_ button \n",
    "#@markdown on the left \n",
    "input_filename = 'input_data.csv'\n",
    "DATA_PATH = input_filename \n",
    "\n",
    "results_folder = 'RESULTS' \n",
    "RESULTS_FOLDER = results_folder     #***user input\n",
    "if not os.path.isdir(RESULTS_FOLDER):\n",
    "    os.makedirs(RESULTS_FOLDER)\n",
    "RESULTS_PATH = Path(RESULTS_FOLDER)\n"
   ]
  },
  {
   "cell_type": "code",
   "execution_count": null,
   "metadata": {
    "cellView": "form",
    "id": "5NasRx2-JIW3"
   },
   "outputs": [],
   "source": [
    "#@title Pre-process input data { form-width: \"20%\" }\n",
    "\n",
    "#@markdown Please execute this cell by pressing the _Play_ button \n",
    "#@markdown on the left \n",
    "try:\n",
    "    lit_data = pd.read_csv(DATA_PATH)\n",
    "except Exception as e:\n",
    "    print(e)\n",
    "    try:\n",
    "      lit_data = pd.read_csv(DATA_PATH, encoding = \"ISO-8859-1\")\n",
    "    except Exception as e:\n",
    "      print(\"Unable to read the input file! Have you uploaded input_data.csv?\")\n",
    "      raise\n",
    "\n",
    "lit_data.rename(columns = {'Title':'title', 'Abstract': 'abstract'}, inplace = True)\n",
    "\n",
    "try:\n",
    "  lit_data = preproc_title(lit_data) \n",
    "except Exception as e:\n",
    "  print(e)\n",
    "  print(\"Error- No title detected! Title is needed for pattern matching!\")\n",
    "  raise\n",
    "\n",
    "lit_data.drop_duplicates(subset=['title'], inplace=True)\n",
    "\n",
    "try:  \n",
    "  lit_data = preproc_abstract(lit_data)\n",
    "except Exception as e:\n",
    "  print(e)\n",
    "  print(\"No abstracts! Proceeding with title only pattern match\")\n",
    "    \n",
    "lit_data['analyst_valid'] = 0\n",
    "lit_data['analyst_comments'] = \" \"\n",
    "lit_data.to_csv('data.csv')"
   ]
  },
  {
   "cell_type": "code",
   "execution_count": null,
   "metadata": {
    "cellView": "form",
    "id": "KGn6hs5K_CVo"
   },
   "outputs": [],
   "source": [
    "#@title Execute Pattern Matching { form-width: \"20%\" }\n",
    "\n",
    "#@markdown **Note:** By default, the code will screen for all 35 categories. To screen only for specific categories, do as follows\n",
    "\n",
    "#@markdown Please press on 'show code'; ensure the 'topic_list' only has as many categories you need and then press the _Play_ button to execute this cell.\n",
    "\n",
    "#@markdown Please note, the 'upper case' and commas after each category name except for the last category are important for the code to execute correctly\n",
    "\n",
    "#@markdown **Note**: This block of code will take some time, depending on how many records are there in the data file, and how many categories are selected . \n",
    "#@markdown For 1000 records and 39 categories it takes around 20 mins.\n",
    "\n",
    "import time\n",
    "data = \"data.csv\"\n",
    "lit_data = pd.read_csv(data)\n",
    "start_time = time.time()\n",
    "topic_list = ['OBSERVATIONAL', 'RELEVANT',\n",
    "                'REMDESIVIR', 'TOCILIZUMAB', 'SARILUMAB', 'IVERMECTIN',\n",
    "                'ASPIRIN', 'BUDESONIDE', 'CORTICOSTEROIDS', 'ANTIBIOTICS',\n",
    "                'COLCHICINE', 'AZITHROMYCIN','LONG COVID', 'NAb', 'SACT', 'BONE MARROW',\n",
    "                'ASTHMA', 'RHEUMATOLOGY', 'COPD', 'CYSTIC FIBROSIS', 'PREGNANCY',\n",
    "                'MYOCARDIAL', 'GASTRO', 'KIDNEY', 'DERMATOLOGY', 'VIT C', 'VIT D',\n",
    "                'VIIT', 'VTE','RESPIRATORY', 'PLANNED CARE', 'INTERSTITIAL LUNG', 'CO_INFECTION',\n",
    "                'MANAGEMENT', 'ASSESSMENT','CYP IMMUNOSUPPRESSION', 'THERAPEUTICS']\n",
    "\n",
    "lit_data = categorise_topics_covid(lit_data, topic_list)\n",
    "\n",
    "end_time = time.time()\n",
    "elapsed_time = end_time - start_time\n",
    "print(\"Total time taken (seconds):\", round(elapsed_time, 2))\n",
    "lit_data.to_csv(RESULTS_PATH / \"processed.csv\", index=False) "
   ]
  },
  {
   "cell_type": "markdown",
   "metadata": {
    "id": "SMywneYdLabR"
   },
   "source": [
    "***Note***: Run the cells below only if you have all the default categories screened. If a custom category was screened, please download the processed.csv file in Results folder and exit. The cells below also creates graphs of the distribution of the various categories in the dataset."
   ]
  },
  {
   "cell_type": "code",
   "execution_count": null,
   "metadata": {
    "cellView": "form",
    "id": "2lLKltUbEd70"
   },
   "outputs": [],
   "source": [
    "#@title Calculate counts of each category { form-width: \"20%\" }\n",
    "\n",
    "#@markdown Please execute this cell by pressing the _Play_ button \n",
    "#@markdown on the left \n",
    "\n",
    "def create_stats_df(in_data, studyCatStartCol, studyCatEndCol, fname1, fname2):\n",
    "  start_col = in_data.columns.get_loc(\"RCT\")\n",
    "  end_col = in_data.columns.get_loc(\"subject relevant\")\n",
    "  in_data_subset = in_data.iloc[:,start_col: end_col+1] #subset the dataframe\n",
    "  stats_data = {'StudyType': in_data_subset.columns.values, 'Count': in_data_subset[in_data_subset > 0].sum()} \n",
    "  stats_df = pd.DataFrame(stats_data)\n",
    "  stats_df.to_csv(fname1)\n",
    "\n",
    "  start_col = in_data.columns.get_loc(studyCatStartCol)\n",
    "  end_col = in_data.columns.get_loc(studyCatEndCol)\n",
    "  in_data_subset = in_data.iloc[:,start_col: end_col+1] #subset the dataframe\n",
    "  stats_data = {'StudyCategory': in_data_subset.columns.values, 'Count': in_data_subset[in_data_subset > 0].sum()} \n",
    "  stats_df = pd.DataFrame(stats_data)\n",
    "  stats_df.to_csv(fname2)\n",
    "\n",
    "data = RESULTS_PATH / \"processed.csv\"\n",
    "in_data = pd.read_csv(data)\n",
    "\n",
    "create_stats_df(in_data,\"remdesivir\",\"therapeutics\", RESULTS_PATH / \"whole_stats_studydesign_relevant.csv\",RESULTS_PATH / \"whole_stats_studycategory_relevant.csv\")"
   ]
  },
  {
   "cell_type": "code",
   "execution_count": null,
   "metadata": {
    "cellView": "form",
    "id": "aCNwYSgh4c0S"
   },
   "outputs": [],
   "source": [
    "#@title Execute this to run R code in subsequent cells { form-width: \"20%\" }\n",
    "\n",
    "#@markdown Please execute this cell by pressing the _Play_ button \n",
    "#@markdown on the left \n",
    "\n",
    "%load_ext rpy2.ipython"
   ]
  },
  {
   "cell_type": "code",
   "execution_count": null,
   "metadata": {
    "cellView": "form",
    "id": "RsubtGTI441M"
   },
   "outputs": [],
   "source": [
    "#@title Execute this to generate graphs { form-width: \"20%\" }\n",
    "\n",
    "#@markdown Please execute this cell by pressing the _Play_ button \n",
    "#@markdown on the left \n",
    "\n",
    "%%R\n",
    "\n",
    "library(ggplot2)\n",
    "RESULTS_PATH <- \"RESULTS/\"\n",
    "plot_study_design <- function(in_fname, out_fname, title){\n",
    "  in_fname <- paste(RESULTS_PATH, in_fname, sep=\"\")\n",
    "  out_fname <- paste(RESULTS_PATH, out_fname, sep=\"\")\n",
    "  df2 <- read.csv(in_fname, stringsAsFactors = FALSE)\n",
    "  p <- ggplot(data = df2) + \n",
    "                geom_bar(data = df2,mapping = aes(x = reorder(df2$StudyType, -df2$Count), y = df2$Count), stat = \"identity\", fill = \"#05C3DE\", width = 0.3) +\n",
    "                labs(title = title) + \n",
    "                xlab(\"Themes\") +\n",
    "                ylab(\"Count\") +\n",
    "                theme(axis.text.x = element_text(angle = 90, hjust = 1))\n",
    "  ggsave(out_fname)\n",
    "  print(p)\n",
    "}\n",
    "\n",
    "plot_study_category <- function(in_fname, out_fname, title){\n",
    "  in_fname <- paste(RESULTS_PATH, in_fname, sep=\"\")\n",
    "  out_fname <- paste(RESULTS_PATH, out_fname, sep=\"\")\n",
    "  df2 <- read.csv(in_fname, stringsAsFactors = FALSE)\n",
    "  p <- ggplot(data = df2) + \n",
    "                geom_bar(data = df2,mapping = aes(x = reorder(df2$StudyCategory, -df2$Count), y = df2$Count), stat = \"identity\", fill = \"#05C3DE\", width = 0.3) +\n",
    "                labs(title = title) + \n",
    "                xlab(\"Themes\") +\n",
    "                ylab(\"Count\") +\n",
    "                theme(axis.text.x = element_text(angle = 90, hjust = 1))\n",
    "  ggsave(out_fname)\n",
    "  print(p)\n",
    "}\n",
    "\n",
    "plot_study_design(\"whole_stats_studydesign_relevant.csv\", \"whole_studydesign.png\", \"Study Designs- Full\")\n",
    "plot_study_category(\"whole_stats_studycategory_relevant.csv\", \"whole_studycategory.png\", \"Study Category- Full\")\n"
   ]
  },
  {
   "cell_type": "code",
   "execution_count": null,
   "metadata": {
    "cellView": "form",
    "id": "KuBSSqquLabW"
   },
   "outputs": [],
   "source": [
    "#@title Execute this to download the full RESULTS folder as a zip file { form-width: \"20%\" }\n",
    "\n",
    "#@markdown Optional to execute this cell. \n",
    "\n",
    "#@markdown A RESULTS.zip file will be generated on the left pane if you execute this cell\n",
    "\n",
    "!zip -r /content/RESULTS.zip /content/RESULTS"
   ]
  }
 ],
 "metadata": {
  "colab": {
   "collapsed_sections": [],
   "name": "screen_patternmatch_regex.ipynb",
   "provenance": []
  },
  "kernelspec": {
   "display_name": "Python 3",
   "language": "python",
   "name": "python3"
  },
  "language_info": {
   "codemirror_mode": {
    "name": "ipython",
    "version": 3
   },
   "file_extension": ".py",
   "mimetype": "text/x-python",
   "name": "python",
   "nbconvert_exporter": "python",
   "pygments_lexer": "ipython3",
   "version": "3.8.6"
  }
 },
 "nbformat": 4,
 "nbformat_minor": 1
}
